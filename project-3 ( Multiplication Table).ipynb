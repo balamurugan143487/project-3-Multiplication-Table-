num = int(input("enter the number of your choice : "))
num2 = int(input("enter the number to which table is to printed "))
print("-" *15)
mult = 1
while mult<=num2:
    print(num, "x", mult, "=" , num*mult)
    print("-"*15)
    mult = mult+1